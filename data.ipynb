{
 "cells": [
  {
   "cell_type": "markdown",
   "metadata": {},
   "source": [
    "# Combine videos to color channels and save resulting frames"
   ]
  },
  {
   "cell_type": "code",
   "execution_count": 1,
   "metadata": {},
   "outputs": [],
   "source": [
    "import os\n",
    "import cv2\n",
    "import numpy as np\n",
    "\n",
    "datasets = [0, 1, 2, 3, 9, 10, 11, 17, 18]\n",
    "\n",
    "for dataset in datasets:\n",
    "\n",
    "    datasetdir = f\"./{dataset:02}_yolo\"\n",
    "    imagedir = f\"{datasetdir}/images\"\n",
    "\n",
    "    if not os.path.exists(imagedir):\n",
    "        os.makedirs(imagedir)\n",
    "\n",
    "    video_types = [\"ambient\", \"intensity\", \"range\"]\n",
    "\n",
    "    videos = [f\"{datasetdir}/Video{dataset:05}_{v}.avi\" for v in video_types]\n",
    "\n",
    "    vidcaps = [cv2.VideoCapture(video) for video in videos]\n",
    "\n",
    "    f = 0\n",
    "\n",
    "    frames = [vidcap.read() for vidcap in vidcaps]\n",
    "\n",
    "    while frames[0][0]:\n",
    "\n",
    "        img = np.stack([frame[1][:,:,1] for frame in frames], axis=2)\n",
    "        \n",
    "        cv2.imwrite(f\"{imagedir}/frame_{f:06}.png\", img)\n",
    "\n",
    "        frames = [vidcap.read() for vidcap in vidcaps]\n",
    "        f += 1\n"
   ]
  },
  {
   "cell_type": "markdown",
   "metadata": {},
   "source": [
    "# Combine to a single dataset"
   ]
  },
  {
   "cell_type": "code",
   "execution_count": 2,
   "metadata": {},
   "outputs": [],
   "source": [
    "import os\n",
    "import shutil\n",
    "\n",
    "datasets = [0, 1, 2, 3, 9, 10, 11, 17, 18]\n",
    "\n",
    "combined_imagedir = \"./dataset/images\"\n",
    "combined_labeldir = \"./dataset/labels\"\n",
    "\n",
    "for dataset in datasets:\n",
    "\n",
    "    datasetdir = f\"./{dataset:02}_yolo\"\n",
    "    imagedir = f\"{datasetdir}/images\"\n",
    "    labeldir = f\"{datasetdir}/labels\"\n",
    "\n",
    "    images = os.listdir(imagedir)\n",
    "    labels = os.listdir(labeldir)\n",
    "\n",
    "    for image in images:\n",
    "        shutil.copyfile(f\"{imagedir}/{image}\", f\"{combined_imagedir}/{dataset:02}_{image}\")\n",
    "\n",
    "    for label in labels:\n",
    "        shutil.copyfile(f\"{labeldir}/{label}\", f\"{combined_labeldir}/{dataset:02}_{label}\")\n"
   ]
  },
  {
   "cell_type": "code",
   "execution_count": null,
   "metadata": {},
   "outputs": [],
   "source": []
  }
 ],
 "metadata": {
  "interpreter": {
   "hash": "b0fa6594d8f4cbf19f97940f81e996739fb7646882a419484c72d19e05852a7e"
  },
  "kernelspec": {
   "display_name": "Python 3.9.7 64-bit",
   "language": "python",
   "name": "python3"
  },
  "language_info": {
   "codemirror_mode": {
    "name": "ipython",
    "version": 3
   },
   "file_extension": ".py",
   "mimetype": "text/x-python",
   "name": "python",
   "nbconvert_exporter": "python",
   "pygments_lexer": "ipython3",
   "version": "3.9.7"
  },
  "orig_nbformat": 4
 },
 "nbformat": 4,
 "nbformat_minor": 2
}
